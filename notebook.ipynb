{
 "cells": [
  {
   "cell_type": "code",
   "execution_count": 2,
   "metadata": {},
   "outputs": [],
   "source": [
    "import pandas as pd\n",
    "from sklearn.metrics import mean_squared_error\n",
    "from sklearn.ensemble import RandomForestClassifier\n",
    "from sklearn.tree import DecisionTreeClassifier\n",
    "from sklearn.linear_model import LogisticRegression\n",
    "from sklearn.metrics import accuracy_score\n",
    "from sklearn.model_selection import train_test_split"
   ]
  },
  {
   "cell_type": "code",
   "execution_count": 3,
   "metadata": {},
   "outputs": [
    {
     "data": {
      "text/html": [
       "<div>\n",
       "<style scoped>\n",
       "    .dataframe tbody tr th:only-of-type {\n",
       "        vertical-align: middle;\n",
       "    }\n",
       "\n",
       "    .dataframe tbody tr th {\n",
       "        vertical-align: top;\n",
       "    }\n",
       "\n",
       "    .dataframe thead th {\n",
       "        text-align: right;\n",
       "    }\n",
       "</style>\n",
       "<table border=\"1\" class=\"dataframe\">\n",
       "  <thead>\n",
       "    <tr style=\"text-align: right;\">\n",
       "      <th></th>\n",
       "      <th>calls</th>\n",
       "      <th>minutes</th>\n",
       "      <th>messages</th>\n",
       "      <th>mb_used</th>\n",
       "      <th>is_ultra</th>\n",
       "    </tr>\n",
       "  </thead>\n",
       "  <tbody>\n",
       "    <tr>\n",
       "      <th>576</th>\n",
       "      <td>72.0</td>\n",
       "      <td>498.89</td>\n",
       "      <td>71.0</td>\n",
       "      <td>17450.90</td>\n",
       "      <td>1</td>\n",
       "    </tr>\n",
       "    <tr>\n",
       "      <th>1750</th>\n",
       "      <td>28.0</td>\n",
       "      <td>169.93</td>\n",
       "      <td>49.0</td>\n",
       "      <td>21232.14</td>\n",
       "      <td>0</td>\n",
       "    </tr>\n",
       "    <tr>\n",
       "      <th>2204</th>\n",
       "      <td>5.0</td>\n",
       "      <td>26.07</td>\n",
       "      <td>106.0</td>\n",
       "      <td>29923.23</td>\n",
       "      <td>1</td>\n",
       "    </tr>\n",
       "    <tr>\n",
       "      <th>1334</th>\n",
       "      <td>63.0</td>\n",
       "      <td>457.13</td>\n",
       "      <td>56.0</td>\n",
       "      <td>16211.97</td>\n",
       "      <td>1</td>\n",
       "    </tr>\n",
       "    <tr>\n",
       "      <th>1440</th>\n",
       "      <td>46.0</td>\n",
       "      <td>278.10</td>\n",
       "      <td>0.0</td>\n",
       "      <td>17288.02</td>\n",
       "      <td>0</td>\n",
       "    </tr>\n",
       "    <tr>\n",
       "      <th>402</th>\n",
       "      <td>64.0</td>\n",
       "      <td>544.95</td>\n",
       "      <td>30.0</td>\n",
       "      <td>17090.92</td>\n",
       "      <td>0</td>\n",
       "    </tr>\n",
       "    <tr>\n",
       "      <th>1341</th>\n",
       "      <td>51.0</td>\n",
       "      <td>363.53</td>\n",
       "      <td>29.0</td>\n",
       "      <td>22843.02</td>\n",
       "      <td>1</td>\n",
       "    </tr>\n",
       "    <tr>\n",
       "      <th>817</th>\n",
       "      <td>24.0</td>\n",
       "      <td>153.32</td>\n",
       "      <td>91.0</td>\n",
       "      <td>23122.08</td>\n",
       "      <td>0</td>\n",
       "    </tr>\n",
       "    <tr>\n",
       "      <th>1351</th>\n",
       "      <td>0.0</td>\n",
       "      <td>0.00</td>\n",
       "      <td>9.0</td>\n",
       "      <td>2923.50</td>\n",
       "      <td>1</td>\n",
       "    </tr>\n",
       "    <tr>\n",
       "      <th>1404</th>\n",
       "      <td>32.0</td>\n",
       "      <td>187.52</td>\n",
       "      <td>47.0</td>\n",
       "      <td>19373.91</td>\n",
       "      <td>0</td>\n",
       "    </tr>\n",
       "    <tr>\n",
       "      <th>874</th>\n",
       "      <td>80.0</td>\n",
       "      <td>479.49</td>\n",
       "      <td>33.0</td>\n",
       "      <td>10121.45</td>\n",
       "      <td>1</td>\n",
       "    </tr>\n",
       "    <tr>\n",
       "      <th>1394</th>\n",
       "      <td>48.0</td>\n",
       "      <td>352.55</td>\n",
       "      <td>30.0</td>\n",
       "      <td>22371.84</td>\n",
       "      <td>0</td>\n",
       "    </tr>\n",
       "    <tr>\n",
       "      <th>1111</th>\n",
       "      <td>31.0</td>\n",
       "      <td>237.79</td>\n",
       "      <td>0.0</td>\n",
       "      <td>22706.37</td>\n",
       "      <td>1</td>\n",
       "    </tr>\n",
       "    <tr>\n",
       "      <th>1657</th>\n",
       "      <td>104.0</td>\n",
       "      <td>684.88</td>\n",
       "      <td>0.0</td>\n",
       "      <td>24447.20</td>\n",
       "      <td>0</td>\n",
       "    </tr>\n",
       "    <tr>\n",
       "      <th>2146</th>\n",
       "      <td>106.0</td>\n",
       "      <td>806.68</td>\n",
       "      <td>72.0</td>\n",
       "      <td>12970.66</td>\n",
       "      <td>0</td>\n",
       "    </tr>\n",
       "    <tr>\n",
       "      <th>2303</th>\n",
       "      <td>43.0</td>\n",
       "      <td>345.70</td>\n",
       "      <td>58.0</td>\n",
       "      <td>1981.69</td>\n",
       "      <td>1</td>\n",
       "    </tr>\n",
       "    <tr>\n",
       "      <th>1656</th>\n",
       "      <td>66.0</td>\n",
       "      <td>470.97</td>\n",
       "      <td>31.0</td>\n",
       "      <td>22773.52</td>\n",
       "      <td>0</td>\n",
       "    </tr>\n",
       "    <tr>\n",
       "      <th>2442</th>\n",
       "      <td>93.0</td>\n",
       "      <td>639.07</td>\n",
       "      <td>29.0</td>\n",
       "      <td>26770.62</td>\n",
       "      <td>1</td>\n",
       "    </tr>\n",
       "    <tr>\n",
       "      <th>2776</th>\n",
       "      <td>62.0</td>\n",
       "      <td>360.65</td>\n",
       "      <td>101.0</td>\n",
       "      <td>11723.30</td>\n",
       "      <td>0</td>\n",
       "    </tr>\n",
       "    <tr>\n",
       "      <th>2724</th>\n",
       "      <td>70.0</td>\n",
       "      <td>466.68</td>\n",
       "      <td>38.0</td>\n",
       "      <td>12924.89</td>\n",
       "      <td>0</td>\n",
       "    </tr>\n",
       "  </tbody>\n",
       "</table>\n",
       "</div>"
      ],
      "text/plain": [
       "      calls  minutes  messages   mb_used  is_ultra\n",
       "576    72.0   498.89      71.0  17450.90         1\n",
       "1750   28.0   169.93      49.0  21232.14         0\n",
       "2204    5.0    26.07     106.0  29923.23         1\n",
       "1334   63.0   457.13      56.0  16211.97         1\n",
       "1440   46.0   278.10       0.0  17288.02         0\n",
       "402    64.0   544.95      30.0  17090.92         0\n",
       "1341   51.0   363.53      29.0  22843.02         1\n",
       "817    24.0   153.32      91.0  23122.08         0\n",
       "1351    0.0     0.00       9.0   2923.50         1\n",
       "1404   32.0   187.52      47.0  19373.91         0\n",
       "874    80.0   479.49      33.0  10121.45         1\n",
       "1394   48.0   352.55      30.0  22371.84         0\n",
       "1111   31.0   237.79       0.0  22706.37         1\n",
       "1657  104.0   684.88       0.0  24447.20         0\n",
       "2146  106.0   806.68      72.0  12970.66         0\n",
       "2303   43.0   345.70      58.0   1981.69         1\n",
       "1656   66.0   470.97      31.0  22773.52         0\n",
       "2442   93.0   639.07      29.0  26770.62         1\n",
       "2776   62.0   360.65     101.0  11723.30         0\n",
       "2724   70.0   466.68      38.0  12924.89         0"
      ]
     },
     "execution_count": 3,
     "metadata": {},
     "output_type": "execute_result"
    }
   ],
   "source": [
    "df = pd.read_csv('users_behavior.csv')\n",
    "df.sample(20)\n"
   ]
  },
  {
   "cell_type": "code",
   "execution_count": 4,
   "metadata": {},
   "outputs": [
    {
     "name": "stdout",
     "output_type": "stream",
     "text": [
      "<class 'pandas.core.frame.DataFrame'>\n",
      "RangeIndex: 3214 entries, 0 to 3213\n",
      "Data columns (total 5 columns):\n",
      " #   Column    Non-Null Count  Dtype  \n",
      "---  ------    --------------  -----  \n",
      " 0   calls     3214 non-null   float64\n",
      " 1   minutes   3214 non-null   float64\n",
      " 2   messages  3214 non-null   float64\n",
      " 3   mb_used   3214 non-null   float64\n",
      " 4   is_ultra  3214 non-null   int64  \n",
      "dtypes: float64(4), int64(1)\n",
      "memory usage: 125.7 KB\n"
     ]
    }
   ],
   "source": [
    "df.info()"
   ]
  },
  {
   "cell_type": "markdown",
   "metadata": {},
   "source": [
    "Empezaremos con definir las caracteristicas y el objetivo, empezando con una logisticregression y comparar su exactitud al umbral de 0.75."
   ]
  },
  {
   "cell_type": "code",
   "execution_count": 5,
   "metadata": {},
   "outputs": [],
   "source": [
    "features = df[['calls', 'minutes', 'messages', 'mb_used']] \n",
    "target = df['is_ultra'] \n",
    "\n",
    "features_train, features_valid, target_train, target_valid = train_test_split(\n",
    "    features, target, test_size=0.25,random_state=12345)\n"
   ]
  },
  {
   "cell_type": "markdown",
   "metadata": {},
   "source": [
    "Procedo a usar el modelo LogisticRegresion, para empezar a comparar modelos."
   ]
  },
  {
   "cell_type": "code",
   "execution_count": 6,
   "metadata": {},
   "outputs": [
    {
     "name": "stdout",
     "output_type": "stream",
     "text": [
      "Accuracy del modelo de regresión logística en el conjunto de entrenamiento: 0.74149377593361\n",
      "Accuracy del modelo de regresión logística en el conjunto de validación: 0.753731343283582\n"
     ]
    }
   ],
   "source": [
    "model = LogisticRegression(random_state=54321, solver='liblinear') # inicializa el constructor de regresión logística con los parámetros random_state=54321 y solver='liblinear'\n",
    "model.fit(features_train, target_train) # entrena el modelo en el conjunto de entrenamiento\n",
    "score_train = model.score(features_train, target_train) # calcula la puntuación de accuracy en el conjunto de entrenamiento\n",
    "score_valid = model.score(features_valid, target_valid) # calcula la puntuación de accuracy en el conjunto de validación\n",
    "\n",
    "print(\"Accuracy del modelo de regresión logística en el conjunto de entrenamiento:\", score_train)\n",
    "print(\"Accuracy del modelo de regresión logística en el conjunto de validación:\", score_valid)"
   ]
  },
  {
   "cell_type": "markdown",
   "metadata": {},
   "source": [
    "Dados los resultados podemos observar que en comparacion al decisiontree y al randomforest, logisticregression tiene una exactitud, mas baja apenas apegandose al umbral fijado."
   ]
  },
  {
   "cell_type": "markdown",
   "metadata": {},
   "source": [
    "Haremos un decisiontreeclassifier porque es una tarea de clasificacion."
   ]
  },
  {
   "cell_type": "code",
   "execution_count": 7,
   "metadata": {},
   "outputs": [
    {
     "name": "stdout",
     "output_type": "stream",
     "text": [
      "Exactitud de max_depth igual a 1\n",
      "Conjunto de entrenamiento: 0.75\n",
      "Conjunto de prueba: 0.75\n",
      "\n",
      "Exactitud de max_depth igual a 2\n",
      "Conjunto de entrenamiento: 0.7835820895522388\n",
      "Conjunto de prueba: 0.7835820895522388\n",
      "\n",
      "Exactitud de max_depth igual a 3\n",
      "Conjunto de entrenamiento: 0.7885572139303483\n",
      "Conjunto de prueba: 0.7885572139303483\n",
      "\n",
      "Exactitud de max_depth igual a 4\n",
      "Conjunto de entrenamiento: 0.7810945273631841\n",
      "Conjunto de prueba: 0.7810945273631841\n",
      "\n",
      "Exactitud de max_depth igual a 5\n",
      "Conjunto de entrenamiento: 0.7810945273631841\n",
      "Conjunto de prueba: 0.7810945273631841\n",
      "\n"
     ]
    }
   ],
   "source": [
    "for depth in range(1,6):  # selecciona el rango del hiperparámetro\n",
    "    # < escribe tu código aquí >\n",
    "    model=DecisionTreeClassifier(max_depth=depth,random_state=54321)\n",
    "    model.fit(features_train,target_train)\n",
    "    test_p=model.predict(features_valid)\n",
    "    acc=accuracy_score(target_valid,test_p)\n",
    "    print(\"Exactitud de max_depth igual a\", depth)\n",
    "    print(\"Conjunto de entrenamiento:\", acc) # calcula la puntuación de accuracy en el conjunto de entrenamiento\n",
    "    print(\"Conjunto de prueba:\", accuracy_score(target_valid, test_p)) # calcula la puntuación de accuracy en el conjunto de prueba\n",
    "    print()"
   ]
  },
  {
   "cell_type": "markdown",
   "metadata": {},
   "source": [
    "Siguiente de lo anterior procedemos a crear un bosque aleatorio"
   ]
  },
  {
   "cell_type": "code",
   "execution_count": 9,
   "metadata": {},
   "outputs": [
    {
     "name": "stdout",
     "output_type": "stream",
     "text": [
      "La exactitud del mejor modelo en el conjunto de validación (n_estimators = 4): 0.7885572139303483\n"
     ]
    }
   ],
   "source": [
    "best_score = 0\n",
    "best_est = 0\n",
    "for est in range(1, 11): # selecciona el rango del hiperparámetro\n",
    "    model = RandomForestClassifier(random_state=54321, n_estimators=est) # configura el número de árboles\n",
    "    model.fit(features_train, target_train) # entrena el modelo en el conjunto de entrenamiento\n",
    "    score = model.score(features_valid, target_valid) # calcula la puntuación de accuracy en el conjunto de validación\n",
    "    if score > best_score:\n",
    "        best_score = score# guarda la mejor puntuación de accuracy en el conjunto de validación\n",
    "        best_est = est # guarda el número de estimadores que corresponden a la mejor puntuación de exactitud\n",
    "\n",
    "print(\"La exactitud del mejor modelo en el conjunto de validación (n_estimators = {}): {}\".format(best_est, best_score))"
   ]
  },
  {
   "cell_type": "markdown",
   "metadata": {},
   "source": [
    "De los 3 modelos el mejor ya que se requiere mas exactitud en este problema es el randomforestclassifier, procedo a dejar el modelo final."
   ]
  },
  {
   "cell_type": "code",
   "execution_count": 10,
   "metadata": {},
   "outputs": [
    {
     "name": "stdout",
     "output_type": "stream",
     "text": [
      "La exactitud del modelo final en el conjunto de validación: 0.7885572139303483\n"
     ]
    }
   ],
   "source": [
    "final_model = RandomForestClassifier(random_state=54321, n_estimators=best_est)\n",
    "\n",
    "final_model.fit(features_train, target_train)\n",
    "\n",
    "final_validation_score = final_model.score(features_valid, target_valid)\n",
    "print(\"La exactitud del modelo final en el conjunto de validación:\", final_validation_score)\n"
   ]
  },
  {
   "cell_type": "markdown",
   "metadata": {},
   "source": [
    "Ahora haremos una prueba de cordura con un dummyclassifier que sirve para comparar el rendimiento de modelos mas complejos."
   ]
  },
  {
   "cell_type": "code",
   "execution_count": 11,
   "metadata": {},
   "outputs": [
    {
     "name": "stdout",
     "output_type": "stream",
     "text": [
      "Exactitud del DummyClassifier (baseline): 0.7002487562189055\n"
     ]
    }
   ],
   "source": [
    "from sklearn.dummy import DummyClassifier\n",
    "dummy = DummyClassifier(strategy=\"most_frequent\", random_state=12345)\n",
    "dummy.fit(features_train, target_train)\n",
    "dummy_predictions = dummy.predict(features_valid)\n",
    "dummy_accuracy = accuracy_score(target_valid, dummy_predictions)\n",
    "print(\"Exactitud del DummyClassifier (baseline):\", dummy_accuracy)\n"
   ]
  },
  {
   "cell_type": "markdown",
   "metadata": {},
   "source": [
    "Dado que mi modelo tiene resultados con mejor exactitud que la prueba de cordura hecha, significa que los patrones que aprendio son utiles, por lo tanto la seleccion de modelo fue acertada."
   ]
  },
  {
   "cell_type": "markdown",
   "metadata": {},
   "source": [
    "Conclusion\n",
    "Dado que el modelo que mas exactitud tiene entre el decisiontree y el randomforest, es el randomforest, se utilizara para escoger el plan correcto para cada usuario basado en las caracteristicas analizadas en el modelo."
   ]
  }
 ],
 "metadata": {
  "kernelspec": {
   "display_name": "integrated",
   "language": "python",
   "name": "python3"
  },
  "language_info": {
   "codemirror_mode": {
    "name": "ipython",
    "version": 3
   },
   "file_extension": ".py",
   "mimetype": "text/x-python",
   "name": "python",
   "nbconvert_exporter": "python",
   "pygments_lexer": "ipython3",
   "version": "3.12.4"
  }
 },
 "nbformat": 4,
 "nbformat_minor": 2
}
