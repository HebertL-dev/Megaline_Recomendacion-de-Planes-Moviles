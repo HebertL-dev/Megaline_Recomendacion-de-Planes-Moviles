{
 "cells": [
  {
   "cell_type": "code",
   "execution_count": 8,
   "metadata": {},
   "outputs": [],
   "source": [
    "import pandas as pd\n",
    "from sklearn.metrics import mean_squared_error\n",
    "from sklearn.ensemble import RandomForestClassifier\n",
    "from sklearn.linear_model import LinearRegression\n",
    "from sklearn.tree import DecisionTreeClassifier\n",
    "from sklearn.linear_model import LogisticRegression\n",
    "from sklearn.metrics import accuracy_score\n",
    "from sklearn.model_selection import train_test_split"
   ]
  },
  {
   "cell_type": "code",
   "execution_count": 23,
   "metadata": {},
   "outputs": [
    {
     "data": {
      "text/html": [
       "<div>\n",
       "<style scoped>\n",
       "    .dataframe tbody tr th:only-of-type {\n",
       "        vertical-align: middle;\n",
       "    }\n",
       "\n",
       "    .dataframe tbody tr th {\n",
       "        vertical-align: top;\n",
       "    }\n",
       "\n",
       "    .dataframe thead th {\n",
       "        text-align: right;\n",
       "    }\n",
       "</style>\n",
       "<table border=\"1\" class=\"dataframe\">\n",
       "  <thead>\n",
       "    <tr style=\"text-align: right;\">\n",
       "      <th></th>\n",
       "      <th>calls</th>\n",
       "      <th>minutes</th>\n",
       "      <th>messages</th>\n",
       "      <th>mb_used</th>\n",
       "      <th>is_ultra</th>\n",
       "    </tr>\n",
       "  </thead>\n",
       "  <tbody>\n",
       "    <tr>\n",
       "      <th>3166</th>\n",
       "      <td>71.0</td>\n",
       "      <td>506.27</td>\n",
       "      <td>98.0</td>\n",
       "      <td>19864.42</td>\n",
       "      <td>0</td>\n",
       "    </tr>\n",
       "    <tr>\n",
       "      <th>1471</th>\n",
       "      <td>53.0</td>\n",
       "      <td>405.98</td>\n",
       "      <td>0.0</td>\n",
       "      <td>24831.39</td>\n",
       "      <td>0</td>\n",
       "    </tr>\n",
       "    <tr>\n",
       "      <th>1846</th>\n",
       "      <td>25.0</td>\n",
       "      <td>141.99</td>\n",
       "      <td>84.0</td>\n",
       "      <td>16150.12</td>\n",
       "      <td>1</td>\n",
       "    </tr>\n",
       "    <tr>\n",
       "      <th>2924</th>\n",
       "      <td>106.0</td>\n",
       "      <td>680.88</td>\n",
       "      <td>2.0</td>\n",
       "      <td>23760.26</td>\n",
       "      <td>0</td>\n",
       "    </tr>\n",
       "    <tr>\n",
       "      <th>477</th>\n",
       "      <td>47.0</td>\n",
       "      <td>322.44</td>\n",
       "      <td>11.0</td>\n",
       "      <td>11420.07</td>\n",
       "      <td>0</td>\n",
       "    </tr>\n",
       "    <tr>\n",
       "      <th>1981</th>\n",
       "      <td>15.0</td>\n",
       "      <td>152.00</td>\n",
       "      <td>14.0</td>\n",
       "      <td>5144.73</td>\n",
       "      <td>0</td>\n",
       "    </tr>\n",
       "    <tr>\n",
       "      <th>2634</th>\n",
       "      <td>74.0</td>\n",
       "      <td>472.44</td>\n",
       "      <td>18.0</td>\n",
       "      <td>16081.14</td>\n",
       "      <td>0</td>\n",
       "    </tr>\n",
       "    <tr>\n",
       "      <th>43</th>\n",
       "      <td>50.0</td>\n",
       "      <td>323.99</td>\n",
       "      <td>10.0</td>\n",
       "      <td>20922.05</td>\n",
       "      <td>1</td>\n",
       "    </tr>\n",
       "    <tr>\n",
       "      <th>417</th>\n",
       "      <td>74.0</td>\n",
       "      <td>539.51</td>\n",
       "      <td>27.0</td>\n",
       "      <td>7732.23</td>\n",
       "      <td>1</td>\n",
       "    </tr>\n",
       "    <tr>\n",
       "      <th>2477</th>\n",
       "      <td>68.0</td>\n",
       "      <td>487.59</td>\n",
       "      <td>45.0</td>\n",
       "      <td>13544.52</td>\n",
       "      <td>0</td>\n",
       "    </tr>\n",
       "    <tr>\n",
       "      <th>1857</th>\n",
       "      <td>62.0</td>\n",
       "      <td>352.66</td>\n",
       "      <td>82.0</td>\n",
       "      <td>28205.37</td>\n",
       "      <td>0</td>\n",
       "    </tr>\n",
       "    <tr>\n",
       "      <th>2898</th>\n",
       "      <td>65.0</td>\n",
       "      <td>387.84</td>\n",
       "      <td>0.0</td>\n",
       "      <td>17035.25</td>\n",
       "      <td>0</td>\n",
       "    </tr>\n",
       "    <tr>\n",
       "      <th>382</th>\n",
       "      <td>144.0</td>\n",
       "      <td>906.18</td>\n",
       "      <td>0.0</td>\n",
       "      <td>25002.44</td>\n",
       "      <td>1</td>\n",
       "    </tr>\n",
       "    <tr>\n",
       "      <th>839</th>\n",
       "      <td>14.0</td>\n",
       "      <td>119.61</td>\n",
       "      <td>23.0</td>\n",
       "      <td>13469.35</td>\n",
       "      <td>0</td>\n",
       "    </tr>\n",
       "    <tr>\n",
       "      <th>2638</th>\n",
       "      <td>19.0</td>\n",
       "      <td>158.87</td>\n",
       "      <td>6.0</td>\n",
       "      <td>2412.36</td>\n",
       "      <td>0</td>\n",
       "    </tr>\n",
       "    <tr>\n",
       "      <th>930</th>\n",
       "      <td>103.0</td>\n",
       "      <td>730.61</td>\n",
       "      <td>154.0</td>\n",
       "      <td>18565.13</td>\n",
       "      <td>1</td>\n",
       "    </tr>\n",
       "    <tr>\n",
       "      <th>2307</th>\n",
       "      <td>72.0</td>\n",
       "      <td>503.08</td>\n",
       "      <td>56.0</td>\n",
       "      <td>32528.11</td>\n",
       "      <td>1</td>\n",
       "    </tr>\n",
       "    <tr>\n",
       "      <th>2503</th>\n",
       "      <td>27.0</td>\n",
       "      <td>192.98</td>\n",
       "      <td>34.0</td>\n",
       "      <td>23612.37</td>\n",
       "      <td>0</td>\n",
       "    </tr>\n",
       "    <tr>\n",
       "      <th>1090</th>\n",
       "      <td>105.0</td>\n",
       "      <td>710.88</td>\n",
       "      <td>0.0</td>\n",
       "      <td>21114.47</td>\n",
       "      <td>1</td>\n",
       "    </tr>\n",
       "    <tr>\n",
       "      <th>3169</th>\n",
       "      <td>100.0</td>\n",
       "      <td>594.79</td>\n",
       "      <td>23.0</td>\n",
       "      <td>21323.07</td>\n",
       "      <td>1</td>\n",
       "    </tr>\n",
       "  </tbody>\n",
       "</table>\n",
       "</div>"
      ],
      "text/plain": [
       "      calls  minutes  messages   mb_used  is_ultra\n",
       "3166   71.0   506.27      98.0  19864.42         0\n",
       "1471   53.0   405.98       0.0  24831.39         0\n",
       "1846   25.0   141.99      84.0  16150.12         1\n",
       "2924  106.0   680.88       2.0  23760.26         0\n",
       "477    47.0   322.44      11.0  11420.07         0\n",
       "1981   15.0   152.00      14.0   5144.73         0\n",
       "2634   74.0   472.44      18.0  16081.14         0\n",
       "43     50.0   323.99      10.0  20922.05         1\n",
       "417    74.0   539.51      27.0   7732.23         1\n",
       "2477   68.0   487.59      45.0  13544.52         0\n",
       "1857   62.0   352.66      82.0  28205.37         0\n",
       "2898   65.0   387.84       0.0  17035.25         0\n",
       "382   144.0   906.18       0.0  25002.44         1\n",
       "839    14.0   119.61      23.0  13469.35         0\n",
       "2638   19.0   158.87       6.0   2412.36         0\n",
       "930   103.0   730.61     154.0  18565.13         1\n",
       "2307   72.0   503.08      56.0  32528.11         1\n",
       "2503   27.0   192.98      34.0  23612.37         0\n",
       "1090  105.0   710.88       0.0  21114.47         1\n",
       "3169  100.0   594.79      23.0  21323.07         1"
      ]
     },
     "execution_count": 23,
     "metadata": {},
     "output_type": "execute_result"
    }
   ],
   "source": [
    "df = pd.read_csv('users_behavior.csv')\n",
    "df.sample(20)\n"
   ]
  },
  {
   "cell_type": "code",
   "execution_count": 3,
   "metadata": {},
   "outputs": [
    {
     "name": "stdout",
     "output_type": "stream",
     "text": [
      "<class 'pandas.core.frame.DataFrame'>\n",
      "RangeIndex: 3214 entries, 0 to 3213\n",
      "Data columns (total 5 columns):\n",
      " #   Column    Non-Null Count  Dtype  \n",
      "---  ------    --------------  -----  \n",
      " 0   calls     3214 non-null   float64\n",
      " 1   minutes   3214 non-null   float64\n",
      " 2   messages  3214 non-null   float64\n",
      " 3   mb_used   3214 non-null   float64\n",
      " 4   is_ultra  3214 non-null   int64  \n",
      "dtypes: float64(4), int64(1)\n",
      "memory usage: 125.7 KB\n"
     ]
    }
   ],
   "source": [
    "df.info()"
   ]
  },
  {
   "cell_type": "markdown",
   "metadata": {},
   "source": [
    "Empezaremos con definir las caracteristicas y el objetivo, empezando con una regresion lineal para ver su remc."
   ]
  },
  {
   "cell_type": "code",
   "execution_count": 4,
   "metadata": {},
   "outputs": [],
   "source": [
    "features = df[['calls', 'minutes', 'messages', 'mb_used']] \n",
    "target = df['is_ultra'] \n",
    "\n",
    "features_train, features_valid, target_train, target_valid = train_test_split(\n",
    "    features, target, test_size=0.25,random_state=12345)\n"
   ]
  },
  {
   "cell_type": "markdown",
   "metadata": {},
   "source": [
    "Procedo a usar el modelo LogisticRegresion, para empezar a comparar modelos."
   ]
  },
  {
   "cell_type": "code",
   "execution_count": 22,
   "metadata": {},
   "outputs": [
    {
     "name": "stdout",
     "output_type": "stream",
     "text": [
      "Accuracy del modelo de regresión logística en el conjunto de entrenamiento: 0.74149377593361\n",
      "Accuracy del modelo de regresión logística en el conjunto de validación: 0.753731343283582\n"
     ]
    }
   ],
   "source": [
    "model = LogisticRegression(random_state=54321, solver='liblinear') # inicializa el constructor de regresión logística con los parámetros random_state=54321 y solver='liblinear'\n",
    "model.fit(features_train, target_train) # entrena el modelo en el conjunto de entrenamiento\n",
    "score_train = model.score(features_train, target_train) # calcula la puntuación de accuracy en el conjunto de entrenamiento\n",
    "score_valid = model.score(features_valid, target_valid) # calcula la puntuación de accuracy en el conjunto de validación\n",
    "\n",
    "print(\"Accuracy del modelo de regresión logística en el conjunto de entrenamiento:\", score_train)\n",
    "print(\"Accuracy del modelo de regresión logística en el conjunto de validación:\", score_valid)"
   ]
  },
  {
   "cell_type": "markdown",
   "metadata": {},
   "source": [
    "Dados los resultados podemos observar que en comparacion al decisiontree y al randomforest es muy baja la exactitud."
   ]
  },
  {
   "cell_type": "markdown",
   "metadata": {},
   "source": [
    "Haremos un decisiontreeclassifier porque es una tarea de clasificacion."
   ]
  },
  {
   "cell_type": "code",
   "execution_count": 24,
   "metadata": {},
   "outputs": [
    {
     "name": "stdout",
     "output_type": "stream",
     "text": [
      "Exactitud de max_depth igual a 1\n",
      "Conjunto de entrenamiento: 0.75\n",
      "Conjunto de prueba: 0.75\n",
      "\n",
      "Exactitud de max_depth igual a 2\n",
      "Conjunto de entrenamiento: 0.7835820895522388\n",
      "Conjunto de prueba: 0.7835820895522388\n",
      "\n",
      "Exactitud de max_depth igual a 3\n",
      "Conjunto de entrenamiento: 0.7885572139303483\n",
      "Conjunto de prueba: 0.7885572139303483\n",
      "\n",
      "Exactitud de max_depth igual a 4\n",
      "Conjunto de entrenamiento: 0.7810945273631841\n",
      "Conjunto de prueba: 0.7810945273631841\n",
      "\n",
      "Exactitud de max_depth igual a 5\n",
      "Conjunto de entrenamiento: 0.7810945273631841\n",
      "Conjunto de prueba: 0.7810945273631841\n",
      "\n"
     ]
    }
   ],
   "source": [
    "for depth in range(1,6):  # selecciona el rango del hiperparámetro\n",
    "    # < escribe tu código aquí >\n",
    "    model=DecisionTreeClassifier(max_depth=depth,random_state=54321)\n",
    "    model.fit(features_train,target_train)\n",
    "    test_p=model.predict(features_valid)\n",
    "    acc=accuracy_score(target_valid,test_p)\n",
    "    print(\"Exactitud de max_depth igual a\", depth)\n",
    "    print(\"Conjunto de entrenamiento:\", acc) # calcula la puntuación de accuracy en el conjunto de entrenamiento\n",
    "    print(\"Conjunto de prueba:\", accuracy_score(target_valid, test_p)) # calcula la puntuación de accuracy en el conjunto de prueba\n",
    "    print()"
   ]
  },
  {
   "cell_type": "markdown",
   "metadata": {},
   "source": [
    "Ya que tenemos los resultados de estos, tenemos observaciones de como con la profundidad aumentando la exactitud del modelo empieza a fallar, siendo la profundidad 3 la que mejor a funcionado. Hare un modelo final para dejar la prueba."
   ]
  },
  {
   "cell_type": "code",
   "execution_count": 19,
   "metadata": {},
   "outputs": [
    {
     "name": "stdout",
     "output_type": "stream",
     "text": [
      "Modelo final entrenado con max_depth=3\n"
     ]
    }
   ],
   "source": [
    "final_model = DecisionTreeClassifier(max_depth=3, random_state=54321)\n",
    "\n",
    "# Combinar datos de entrenamiento y validación para entrenar el modelo final\n",
    "features_combined = pd.concat([features_train, features_valid])\n",
    "target_combined = pd.concat([target_train, target_valid])\n",
    "\n",
    "# Entrenar el modelo\n",
    "final_model.fit(features_combined, target_combined)\n",
    "\n",
    "# Evaluación del modelo final (si tienes un conjunto de prueba independiente):\n",
    "# test_predictions = final_model.predict(features_test)\n",
    "# test_accuracy = accuracy_score(target_test, test_predictions)\n",
    "# print(\"Exactitud en el conjunto de prueba:\", test_accuracy)\n",
    "\n",
    "print(\"Modelo final entrenado con max_depth=3\")"
   ]
  },
  {
   "cell_type": "markdown",
   "metadata": {},
   "source": [
    "Siguiente de lo anterior procedemos a crear un bosque aleatorio"
   ]
  },
  {
   "cell_type": "code",
   "execution_count": 25,
   "metadata": {},
   "outputs": [
    {
     "name": "stdout",
     "output_type": "stream",
     "text": [
      "La exactitud del mejor modelo en el conjunto de validación (n_estimators = 4): 0.7885572139303483\n"
     ]
    }
   ],
   "source": [
    "best_score = 0\n",
    "best_est = 0\n",
    "for est in range(1, 11): # selecciona el rango del hiperparámetro\n",
    "    model = RandomForestClassifier(random_state=54321, n_estimators=est) # configura el número de árboles\n",
    "    model.fit(features_train, target_train) # entrena el modelo en el conjunto de entrenamiento\n",
    "    score = model.score(features_valid, target_valid) # calcula la puntuación de accuracy en el conjunto de validación\n",
    "    if score > best_score:\n",
    "        best_score = score# guarda la mejor puntuación de accuracy en el conjunto de validación\n",
    "        best_est = est # guarda el número de estimadores que corresponden a la mejor puntuación de exactitud\n",
    "\n",
    "print(\"La exactitud del mejor modelo en el conjunto de validación (n_estimators = {}): {}\".format(best_est, best_score))"
   ]
  },
  {
   "cell_type": "markdown",
   "metadata": {},
   "source": [
    "Comparando "
   ]
  }
 ],
 "metadata": {
  "kernelspec": {
   "display_name": "integrated",
   "language": "python",
   "name": "python3"
  },
  "language_info": {
   "codemirror_mode": {
    "name": "ipython",
    "version": 3
   },
   "file_extension": ".py",
   "mimetype": "text/x-python",
   "name": "python",
   "nbconvert_exporter": "python",
   "pygments_lexer": "ipython3",
   "version": "3.12.4"
  }
 },
 "nbformat": 4,
 "nbformat_minor": 2
}
