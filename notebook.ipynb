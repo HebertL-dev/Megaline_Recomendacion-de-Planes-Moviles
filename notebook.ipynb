{
 "cells": [
  {
   "cell_type": "code",
   "execution_count": 27,
   "metadata": {},
   "outputs": [],
   "source": [
    "import pandas as pd\n",
    "from sklearn.metrics import mean_squared_error\n",
    "from sklearn.ensemble import RandomForestRegressor\n",
    "from sklearn.linear_model import LinearRegression\n",
    "from sklearn.tree import DecisionTreeRegressor\n",
    "from sklearn.linear_model import LogisticRegression\n",
    "from sklearn.model_selection import train_test_split"
   ]
  },
  {
   "cell_type": "code",
   "execution_count": null,
   "metadata": {},
   "outputs": [],
   "source": [
    "df = pd.read_csv('users_behavior.csv')\n"
   ]
  },
  {
   "cell_type": "code",
   "execution_count": 31,
   "metadata": {},
   "outputs": [
    {
     "name": "stdout",
     "output_type": "stream",
     "text": [
      "<class 'pandas.core.frame.DataFrame'>\n",
      "RangeIndex: 3214 entries, 0 to 3213\n",
      "Data columns (total 5 columns):\n",
      " #   Column    Non-Null Count  Dtype  \n",
      "---  ------    --------------  -----  \n",
      " 0   calls     3214 non-null   float64\n",
      " 1   minutes   3214 non-null   float64\n",
      " 2   messages  3214 non-null   float64\n",
      " 3   mb_used   3214 non-null   float64\n",
      " 4   is_ultra  3214 non-null   int64  \n",
      "dtypes: float64(4), int64(1)\n",
      "memory usage: 125.7 KB\n"
     ]
    }
   ],
   "source": [
    "df.info()"
   ]
  },
  {
   "cell_type": "code",
   "execution_count": null,
   "metadata": {},
   "outputs": [],
   "source": [
    "features = df[['calls', 'minutes', 'messages', 'mb_used']] # extrae las características\n",
    "target = df['is_ultra'] # extrae los objetivos\n",
    "\n",
    "features_train, features_valid, target_train, target_valid = train_test_split(\n",
    "    features, target, random_state=12345)\n",
    "model = LinearRegression()\n",
    "model.fit(features_train, target_train)\n",
    "pred_valid= model.predict(features_valid)"
   ]
  },
  {
   "cell_type": "code",
   "execution_count": 36,
   "metadata": {},
   "outputs": [
    {
     "data": {
      "text/plain": [
       "np.float64(0.43786312404942046)"
      ]
     },
     "execution_count": 36,
     "metadata": {},
     "output_type": "execute_result"
    }
   ],
   "source": [
    "resul = mean_squared_error(target_valid, pred_valid)**0.5\n",
    "resul"
   ]
  },
  {
   "cell_type": "code",
   "execution_count": 32,
   "metadata": {},
   "outputs": [
    {
     "name": "stdout",
     "output_type": "stream",
     "text": [
      "Validación RECM para los n_estimators de 10 , depth= 1 is 0.4246062261876908\n",
      "Validación RECM para los n_estimators de 10 , depth= 2 is 0.4073844843171148\n",
      "Validación RECM para los n_estimators de 10 , depth= 3 is 0.4028235874867796\n",
      "Validación RECM para los n_estimators de 10 , depth= 4 is 0.3946600922547636\n",
      "Validación RECM para los n_estimators de 10 , depth= 5 is 0.39311339225605324\n",
      "Validación RECM para los n_estimators de 10 , depth= 6 is 0.3931432440598083\n",
      "Validación RECM para los n_estimators de 10 , depth= 7 is 0.39125163171342353\n",
      "Validación RECM para los n_estimators de 10 , depth= 8 is 0.3905873202135934\n",
      "Validación RECM para los n_estimators de 10 , depth= 9 is 0.3891370997177105\n",
      "Validación RECM para los n_estimators de 10 , depth= 10 is 0.3919901399844317\n",
      "Validación RECM para los n_estimators de 20 , depth= 1 is 0.42586879089000107\n",
      "Validación RECM para los n_estimators de 20 , depth= 2 is 0.40631734000380504\n",
      "Validación RECM para los n_estimators de 20 , depth= 3 is 0.40099217713593877\n",
      "Validación RECM para los n_estimators de 20 , depth= 4 is 0.392670839642084\n",
      "Validación RECM para los n_estimators de 20 , depth= 5 is 0.38983075232583114\n",
      "Validación RECM para los n_estimators de 20 , depth= 6 is 0.38957281375051633\n",
      "Validación RECM para los n_estimators de 20 , depth= 7 is 0.38821140114171576\n",
      "Validación RECM para los n_estimators de 20 , depth= 8 is 0.3867879245146808\n",
      "Validación RECM para los n_estimators de 20 , depth= 9 is 0.3868367306552104\n",
      "Validación RECM para los n_estimators de 20 , depth= 10 is 0.38844910036718894\n",
      "Validación RECM para los n_estimators de 30 , depth= 1 is 0.42645478813355775\n",
      "Validación RECM para los n_estimators de 30 , depth= 2 is 0.40588846777342247\n",
      "Validación RECM para los n_estimators de 30 , depth= 3 is 0.4006551565865058\n",
      "Validación RECM para los n_estimators de 30 , depth= 4 is 0.3924714293311576\n",
      "Validación RECM para los n_estimators de 30 , depth= 5 is 0.38894028325390767\n",
      "Validación RECM para los n_estimators de 30 , depth= 6 is 0.38814355323784216\n",
      "Validación RECM para los n_estimators de 30 , depth= 7 is 0.38687352619910775\n",
      "Validación RECM para los n_estimators de 30 , depth= 8 is 0.3864869887108779\n",
      "Validación RECM para los n_estimators de 30 , depth= 9 is 0.3869218610260991\n",
      "Validación RECM para los n_estimators de 30 , depth= 10 is 0.3886017964856389\n",
      "Validación RECM para los n_estimators de 40 , depth= 1 is 0.4266143465745952\n",
      "Validación RECM para los n_estimators de 40 , depth= 2 is 0.4055467010529338\n",
      "Validación RECM para los n_estimators de 40 , depth= 3 is 0.40037835284798595\n",
      "Validación RECM para los n_estimators de 40 , depth= 4 is 0.39225045867201735\n",
      "Validación RECM para los n_estimators de 40 , depth= 5 is 0.3890565103973111\n",
      "Validación RECM para los n_estimators de 40 , depth= 6 is 0.38833519316089155\n",
      "Validación RECM para los n_estimators de 40 , depth= 7 is 0.3865477446313952\n",
      "Validación RECM para los n_estimators de 40 , depth= 8 is 0.38645758520795226\n",
      "Validación RECM para los n_estimators de 40 , depth= 9 is 0.38673767603212095\n",
      "Validación RECM para los n_estimators de 40 , depth= 10 is 0.38855378638730403\n",
      "Validación RECM para los n_estimators de 50 , depth= 1 is 0.42683178318849835\n",
      "Validación RECM para los n_estimators de 50 , depth= 2 is 0.4055291956185033\n",
      "Validación RECM para los n_estimators de 50 , depth= 3 is 0.40060939171888005\n",
      "Validación RECM para los n_estimators de 50 , depth= 4 is 0.392348490128411\n",
      "Validación RECM para los n_estimators de 50 , depth= 5 is 0.38902230883608857\n",
      "Validación RECM para los n_estimators de 50 , depth= 6 is 0.3881812946799247\n",
      "Validación RECM para los n_estimators de 50 , depth= 7 is 0.3867493456658553\n",
      "Validación RECM para los n_estimators de 50 , depth= 8 is 0.38648874353033214\n",
      "Validación RECM para los n_estimators de 50 , depth= 9 is 0.38620289893174337\n",
      "Validación RECM para los n_estimators de 50 , depth= 10 is 0.3877858670511877\n",
      "RECM del mejor modelo en el conjunto de validación: 0.38620289893174337 n_estimators: 50 best_depth: 9\n"
     ]
    }
   ],
   "source": [
    "best_error = 10000 # configura el inicio de RECM\n",
    "best_est = 0\n",
    "best_depth = 0\n",
    "for est in range(10, 51, 10):\n",
    "    for depth in range (1, 11):\n",
    "        model =RandomForestRegressor(random_state=54321, n_estimators=est, max_depth=depth)\n",
    "        model.fit(features_train,target_train) # entrena el modelo en el conjunto de entrenamiento\n",
    "        predictions_valid = model.predict(features_valid) # obtén las predicciones del modelo en el conjunto de validación\n",
    "        error = mean_squared_error(target_valid, predictions_valid)**0.5 # calcula la RECM en el conjunto de validación\n",
    "        print(\"Validación RECM para los n_estimators de\", est, \", depth=\", depth, \"is\", error)\n",
    "        if error < best_error: # guardamos la configuración del modelo si se logra el error más bajo\n",
    "            best_error = error\n",
    "            best_est = est\n",
    "            best_depth = depth\n",
    "\n",
    "print(\"RECM del mejor modelo en el conjunto de validación:\", best_error, \"n_estimators:\", best_est, \"best_depth:\", best_depth)"
   ]
  }
 ],
 "metadata": {
  "kernelspec": {
   "display_name": "integrated",
   "language": "python",
   "name": "python3"
  },
  "language_info": {
   "codemirror_mode": {
    "name": "ipython",
    "version": 3
   },
   "file_extension": ".py",
   "mimetype": "text/x-python",
   "name": "python",
   "nbconvert_exporter": "python",
   "pygments_lexer": "ipython3",
   "version": "3.12.4"
  }
 },
 "nbformat": 4,
 "nbformat_minor": 2
}
